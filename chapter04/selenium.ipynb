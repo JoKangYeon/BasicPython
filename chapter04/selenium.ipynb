{
 "cells": [
  {
   "cell_type": "code",
   "execution_count": 1,
   "id": "initial_id",
   "metadata": {
    "collapsed": true,
    "ExecuteTime": {
     "end_time": "2023-12-11T00:09:25.406104881Z",
     "start_time": "2023-12-11T00:09:20.055519877Z"
    }
   },
   "outputs": [],
   "source": [
    "import time\n",
    "\n",
    "from selenium.webdriver import Keys\n",
    "from selenium.webdriver.common.by import By\n",
    "# selenium\n",
    "from selenium import webdriver\n",
    "\n",
    "driver = webdriver.Chrome()\n",
    "url = 'http://ncov.kdca.go.kr'\n",
    "driver.get(url)\n",
    "\n",
    "driver.find_element(By.XPATH, '//*[@id=\"header\"]/div/div[2]/a[1]').click()\n",
    "# 1초를 기다린다.\n",
    "# driver.implicitly_wait(3)\n",
    "time.sleep(1)\n",
    "\n",
    "search = driver.find_element(By.XPATH, '//*[@id=\"searchTermMobile123\"]')\n",
    "search.click()\n",
    "search.send_keys('백신')\n",
    "search.send_keys(Keys.ENTER)\n",
    "# driver.find_element(By.XPATH, '//*[@id=\"btnHeaderInput\"]').click()\n"
   ]
  },
  {
   "cell_type": "code",
   "execution_count": 2,
   "outputs": [],
   "source": [
    "# Daum 사이트 로그인\n",
    "driver = webdriver.Chrome()\n",
    "url = 'https://accounts.kakao.com/login/?continue=https%3A%2F%2Flogins.daum.net%2Faccounts%2Fksso.do%3Frescue%3Dtrue%26url%3Dhttps%253A%252F%252Fwww.daum.net#login'\n",
    "driver.get(url)\n",
    "user_id = driver.find_element(By.XPATH, '//*[@id=\"loginId--1\"]')\n",
    "user_pw = driver.find_element(By.XPATH, '//*[@id=\"password--2\"]')\n",
    "login_btn = driver.find_element(By.XPATH, '//*[@id=\"mainContent\"]/div/div/form/div[4]/button[1]')\n",
    "user_id.send_keys('chopperkim@kakao.com')\n",
    "login_btn.click()"
   ],
   "metadata": {
    "collapsed": false,
    "ExecuteTime": {
     "end_time": "2023-12-11T00:10:52.214970798Z",
     "start_time": "2023-12-11T00:10:50.423152546Z"
    }
   },
   "id": "1ec367af9ba1be80"
  },
  {
   "cell_type": "code",
   "execution_count": 3,
   "outputs": [
    {
     "ename": "NoSuchWindowException",
     "evalue": "Message: no such window: target window already closed\nfrom unknown error: web view not found\n  (Session info: chrome=119.0.6045.123)\nStacktrace:\n#0 0x55ab676315e3 <unknown>\n#1 0x55ab672f40b7 <unknown>\n#2 0x55ab672c81b8 <unknown>\n#3 0x55ab6736e6ef <unknown>\n#4 0x55ab67384306 <unknown>\n#5 0x55ab67368cc3 <unknown>\n#6 0x55ab673340e4 <unknown>\n#7 0x55ab673350ae <unknown>\n#8 0x55ab675f7ce1 <unknown>\n#9 0x55ab675fbb7e <unknown>\n#10 0x55ab675e54b5 <unknown>\n#11 0x55ab675fc7d6 <unknown>\n#12 0x55ab675c8dbf <unknown>\n#13 0x55ab6761f748 <unknown>\n#14 0x55ab6761f917 <unknown>\n#15 0x55ab67630773 <unknown>\n#16 0x7f91f0978b43 <unknown>\n",
     "output_type": "error",
     "traceback": [
      "\u001B[0;31m---------------------------------------------------------------------------\u001B[0m",
      "\u001B[0;31mNoSuchWindowException\u001B[0m                     Traceback (most recent call last)",
      "Cell \u001B[0;32mIn[3], line 6\u001B[0m\n\u001B[1;32m      3\u001B[0m driver\u001B[38;5;241m.\u001B[39mget(url)\n\u001B[1;32m      5\u001B[0m time\u001B[38;5;241m.\u001B[39msleep(\u001B[38;5;241m2\u001B[39m)\n\u001B[0;32m----> 6\u001B[0m \u001B[38;5;28mid\u001B[39m \u001B[38;5;241m=\u001B[39m \u001B[43mdriver\u001B[49m\u001B[38;5;241;43m.\u001B[39;49m\u001B[43mfind_element\u001B[49m\u001B[43m(\u001B[49m\u001B[43mBy\u001B[49m\u001B[38;5;241;43m.\u001B[39;49m\u001B[43mXPATH\u001B[49m\u001B[43m,\u001B[49m\u001B[43m \u001B[49m\u001B[38;5;124;43m'\u001B[39;49m\u001B[38;5;124;43m//*[@id=\u001B[39;49m\u001B[38;5;124;43m\"\u001B[39;49m\u001B[38;5;124;43mj_username\u001B[39;49m\u001B[38;5;124;43m\"\u001B[39;49m\u001B[38;5;124;43m]\u001B[39;49m\u001B[38;5;124;43m'\u001B[39;49m\u001B[43m)\u001B[49m\n\u001B[1;32m      7\u001B[0m pw \u001B[38;5;241m=\u001B[39m driver\u001B[38;5;241m.\u001B[39mfind_element(By\u001B[38;5;241m.\u001B[39mXPATH, \u001B[38;5;124m'\u001B[39m\u001B[38;5;124m//*[@id=\u001B[39m\u001B[38;5;124m\"\u001B[39m\u001B[38;5;124mj_password\u001B[39m\u001B[38;5;124m\"\u001B[39m\u001B[38;5;124m]\u001B[39m\u001B[38;5;124m'\u001B[39m)\n\u001B[1;32m      8\u001B[0m btn \u001B[38;5;241m=\u001B[39m driver\u001B[38;5;241m.\u001B[39mfind_element(By\u001B[38;5;241m.\u001B[39mXPATH, \u001B[38;5;124m'\u001B[39m\u001B[38;5;124m//*[@id=\u001B[39m\u001B[38;5;124m\"\u001B[39m\u001B[38;5;124mloginSubmit\u001B[39m\u001B[38;5;124m\"\u001B[39m\u001B[38;5;124m]\u001B[39m\u001B[38;5;124m'\u001B[39m)\n",
      "File \u001B[0;32m~/PycharmProjects/BasicPython/venv/lib/python3.10/site-packages/selenium/webdriver/remote/webdriver.py:742\u001B[0m, in \u001B[0;36mWebDriver.find_element\u001B[0;34m(self, by, value)\u001B[0m\n\u001B[1;32m    739\u001B[0m     by \u001B[38;5;241m=\u001B[39m By\u001B[38;5;241m.\u001B[39mCSS_SELECTOR\n\u001B[1;32m    740\u001B[0m     value \u001B[38;5;241m=\u001B[39m \u001B[38;5;124mf\u001B[39m\u001B[38;5;124m'\u001B[39m\u001B[38;5;124m[name=\u001B[39m\u001B[38;5;124m\"\u001B[39m\u001B[38;5;132;01m{\u001B[39;00mvalue\u001B[38;5;132;01m}\u001B[39;00m\u001B[38;5;124m\"\u001B[39m\u001B[38;5;124m]\u001B[39m\u001B[38;5;124m'\u001B[39m\n\u001B[0;32m--> 742\u001B[0m \u001B[38;5;28;01mreturn\u001B[39;00m \u001B[38;5;28;43mself\u001B[39;49m\u001B[38;5;241;43m.\u001B[39;49m\u001B[43mexecute\u001B[49m\u001B[43m(\u001B[49m\u001B[43mCommand\u001B[49m\u001B[38;5;241;43m.\u001B[39;49m\u001B[43mFIND_ELEMENT\u001B[49m\u001B[43m,\u001B[49m\u001B[43m \u001B[49m\u001B[43m{\u001B[49m\u001B[38;5;124;43m\"\u001B[39;49m\u001B[38;5;124;43musing\u001B[39;49m\u001B[38;5;124;43m\"\u001B[39;49m\u001B[43m:\u001B[49m\u001B[43m \u001B[49m\u001B[43mby\u001B[49m\u001B[43m,\u001B[49m\u001B[43m \u001B[49m\u001B[38;5;124;43m\"\u001B[39;49m\u001B[38;5;124;43mvalue\u001B[39;49m\u001B[38;5;124;43m\"\u001B[39;49m\u001B[43m:\u001B[49m\u001B[43m \u001B[49m\u001B[43mvalue\u001B[49m\u001B[43m}\u001B[49m\u001B[43m)\u001B[49m[\u001B[38;5;124m\"\u001B[39m\u001B[38;5;124mvalue\u001B[39m\u001B[38;5;124m\"\u001B[39m]\n",
      "File \u001B[0;32m~/PycharmProjects/BasicPython/venv/lib/python3.10/site-packages/selenium/webdriver/remote/webdriver.py:348\u001B[0m, in \u001B[0;36mWebDriver.execute\u001B[0;34m(self, driver_command, params)\u001B[0m\n\u001B[1;32m    346\u001B[0m response \u001B[38;5;241m=\u001B[39m \u001B[38;5;28mself\u001B[39m\u001B[38;5;241m.\u001B[39mcommand_executor\u001B[38;5;241m.\u001B[39mexecute(driver_command, params)\n\u001B[1;32m    347\u001B[0m \u001B[38;5;28;01mif\u001B[39;00m response:\n\u001B[0;32m--> 348\u001B[0m     \u001B[38;5;28;43mself\u001B[39;49m\u001B[38;5;241;43m.\u001B[39;49m\u001B[43merror_handler\u001B[49m\u001B[38;5;241;43m.\u001B[39;49m\u001B[43mcheck_response\u001B[49m\u001B[43m(\u001B[49m\u001B[43mresponse\u001B[49m\u001B[43m)\u001B[49m\n\u001B[1;32m    349\u001B[0m     response[\u001B[38;5;124m\"\u001B[39m\u001B[38;5;124mvalue\u001B[39m\u001B[38;5;124m\"\u001B[39m] \u001B[38;5;241m=\u001B[39m \u001B[38;5;28mself\u001B[39m\u001B[38;5;241m.\u001B[39m_unwrap_value(response\u001B[38;5;241m.\u001B[39mget(\u001B[38;5;124m\"\u001B[39m\u001B[38;5;124mvalue\u001B[39m\u001B[38;5;124m\"\u001B[39m, \u001B[38;5;28;01mNone\u001B[39;00m))\n\u001B[1;32m    350\u001B[0m     \u001B[38;5;28;01mreturn\u001B[39;00m response\n",
      "File \u001B[0;32m~/PycharmProjects/BasicPython/venv/lib/python3.10/site-packages/selenium/webdriver/remote/errorhandler.py:229\u001B[0m, in \u001B[0;36mErrorHandler.check_response\u001B[0;34m(self, response)\u001B[0m\n\u001B[1;32m    227\u001B[0m         alert_text \u001B[38;5;241m=\u001B[39m value[\u001B[38;5;124m\"\u001B[39m\u001B[38;5;124malert\u001B[39m\u001B[38;5;124m\"\u001B[39m]\u001B[38;5;241m.\u001B[39mget(\u001B[38;5;124m\"\u001B[39m\u001B[38;5;124mtext\u001B[39m\u001B[38;5;124m\"\u001B[39m)\n\u001B[1;32m    228\u001B[0m     \u001B[38;5;28;01mraise\u001B[39;00m exception_class(message, screen, stacktrace, alert_text)  \u001B[38;5;66;03m# type: ignore[call-arg]  # mypy is not smart enough here\u001B[39;00m\n\u001B[0;32m--> 229\u001B[0m \u001B[38;5;28;01mraise\u001B[39;00m exception_class(message, screen, stacktrace)\n",
      "\u001B[0;31mNoSuchWindowException\u001B[0m: Message: no such window: target window already closed\nfrom unknown error: web view not found\n  (Session info: chrome=119.0.6045.123)\nStacktrace:\n#0 0x55ab676315e3 <unknown>\n#1 0x55ab672f40b7 <unknown>\n#2 0x55ab672c81b8 <unknown>\n#3 0x55ab6736e6ef <unknown>\n#4 0x55ab67384306 <unknown>\n#5 0x55ab67368cc3 <unknown>\n#6 0x55ab673340e4 <unknown>\n#7 0x55ab673350ae <unknown>\n#8 0x55ab675f7ce1 <unknown>\n#9 0x55ab675fbb7e <unknown>\n#10 0x55ab675e54b5 <unknown>\n#11 0x55ab675fc7d6 <unknown>\n#12 0x55ab675c8dbf <unknown>\n#13 0x55ab6761f748 <unknown>\n#14 0x55ab6761f917 <unknown>\n#15 0x55ab67630773 <unknown>\n#16 0x7f91f0978b43 <unknown>\n"
     ]
    }
   ],
   "source": [
    "driver = webdriver.Chrome()\n",
    "url = 'https://www.costco.co.kr/login'\n",
    "driver.get(url)\n",
    "\n",
    "time.sleep(2)\n",
    "id = driver.find_element(By.XPATH, '//*[@id=\"j_username\"]')\n",
    "pw = driver.find_element(By.XPATH, '//*[@id=\"j_password\"]')\n",
    "btn = driver.find_element(By.XPATH, '//*[@id=\"loginSubmit\"]')\n",
    "id.send_keys('chocojhkim@hanmail.net')\n",
    "btn.click()"
   ],
   "metadata": {
    "collapsed": false,
    "ExecuteTime": {
     "end_time": "2023-12-11T00:11:03.728912703Z",
     "start_time": "2023-12-11T00:10:57.671626468Z"
    }
   },
   "id": "a3f2ec6082634345"
  },
  {
   "cell_type": "code",
   "execution_count": 4,
   "outputs": [
    {
     "ename": "NoSuchWindowException",
     "evalue": "Message: no such window: target window already closed\nfrom unknown error: web view not found\n  (Session info: chrome=119.0.6045.123)\nStacktrace:\n#0 0x5561858295e3 <unknown>\n#1 0x5561854ec0b7 <unknown>\n#2 0x5561854c01b8 <unknown>\n#3 0x5561855666ef <unknown>\n#4 0x55618557c306 <unknown>\n#5 0x556185560cc3 <unknown>\n#6 0x55618552c0e4 <unknown>\n#7 0x55618552d0ae <unknown>\n#8 0x5561857efce1 <unknown>\n#9 0x5561857f3b7e <unknown>\n#10 0x5561857dd4b5 <unknown>\n#11 0x5561857f47d6 <unknown>\n#12 0x5561857c0dbf <unknown>\n#13 0x556185817748 <unknown>\n#14 0x556185817917 <unknown>\n#15 0x556185828773 <unknown>\n#16 0x7f1475d08b43 <unknown>\n",
     "output_type": "error",
     "traceback": [
      "\u001B[0;31m---------------------------------------------------------------------------\u001B[0m",
      "\u001B[0;31mNoSuchWindowException\u001B[0m                     Traceback (most recent call last)",
      "Cell \u001B[0;32mIn[4], line 10\u001B[0m\n\u001B[1;32m      6\u001B[0m search\u001B[38;5;241m.\u001B[39msend_keys(Keys\u001B[38;5;241m.\u001B[39mENTER)\n\u001B[1;32m      8\u001B[0m driver\u001B[38;5;241m.\u001B[39mimplicitly_wait(\u001B[38;5;241m5\u001B[39m)\n\u001B[0;32m---> 10\u001B[0m shopping \u001B[38;5;241m=\u001B[39m \u001B[43mdriver\u001B[49m\u001B[38;5;241;43m.\u001B[39;49m\u001B[43mfind_element\u001B[49m\u001B[43m(\u001B[49m\u001B[43mBy\u001B[49m\u001B[38;5;241;43m.\u001B[39;49m\u001B[43mXPATH\u001B[49m\u001B[43m,\u001B[49m\u001B[43m \u001B[49m\u001B[38;5;124;43m'\u001B[39;49m\u001B[38;5;124;43m//*[@id=\u001B[39;49m\u001B[38;5;124;43m\"\u001B[39;49m\u001B[38;5;124;43mmain_pack\u001B[39;49m\u001B[38;5;124;43m\"\u001B[39;49m\u001B[38;5;124;43m]/section[1]/div[1]/div[3]/div[1]/div[1]/ul\u001B[39;49m\u001B[38;5;124;43m'\u001B[39;49m\u001B[43m)\u001B[49m\n\u001B[1;32m     12\u001B[0m \u001B[38;5;28mlist\u001B[39m \u001B[38;5;241m=\u001B[39m shopping\u001B[38;5;241m.\u001B[39mfind_elements(By\u001B[38;5;241m.\u001B[39mCSS_SELECTOR, \u001B[38;5;124m'\u001B[39m\u001B[38;5;124m#main_pack > section.sc_new.sp_nshop._shopping_root > div:nth-child(1) > div.shop_guide_group._content_root > div:nth-child(1) > div.shop_list_divide._page._ad._calledAdLog > ul > li.box._ad._calledAdVisibleLog > div > div > a\u001B[39m\u001B[38;5;124m'\u001B[39m)\n\u001B[1;32m     13\u001B[0m \u001B[38;5;28;01mfor\u001B[39;00m item \u001B[38;5;129;01min\u001B[39;00m \u001B[38;5;28mlist\u001B[39m:\n",
      "File \u001B[0;32m~/PycharmProjects/BasicPython/venv/lib/python3.10/site-packages/selenium/webdriver/remote/webdriver.py:742\u001B[0m, in \u001B[0;36mWebDriver.find_element\u001B[0;34m(self, by, value)\u001B[0m\n\u001B[1;32m    739\u001B[0m     by \u001B[38;5;241m=\u001B[39m By\u001B[38;5;241m.\u001B[39mCSS_SELECTOR\n\u001B[1;32m    740\u001B[0m     value \u001B[38;5;241m=\u001B[39m \u001B[38;5;124mf\u001B[39m\u001B[38;5;124m'\u001B[39m\u001B[38;5;124m[name=\u001B[39m\u001B[38;5;124m\"\u001B[39m\u001B[38;5;132;01m{\u001B[39;00mvalue\u001B[38;5;132;01m}\u001B[39;00m\u001B[38;5;124m\"\u001B[39m\u001B[38;5;124m]\u001B[39m\u001B[38;5;124m'\u001B[39m\n\u001B[0;32m--> 742\u001B[0m \u001B[38;5;28;01mreturn\u001B[39;00m \u001B[38;5;28;43mself\u001B[39;49m\u001B[38;5;241;43m.\u001B[39;49m\u001B[43mexecute\u001B[49m\u001B[43m(\u001B[49m\u001B[43mCommand\u001B[49m\u001B[38;5;241;43m.\u001B[39;49m\u001B[43mFIND_ELEMENT\u001B[49m\u001B[43m,\u001B[49m\u001B[43m \u001B[49m\u001B[43m{\u001B[49m\u001B[38;5;124;43m\"\u001B[39;49m\u001B[38;5;124;43musing\u001B[39;49m\u001B[38;5;124;43m\"\u001B[39;49m\u001B[43m:\u001B[49m\u001B[43m \u001B[49m\u001B[43mby\u001B[49m\u001B[43m,\u001B[49m\u001B[43m \u001B[49m\u001B[38;5;124;43m\"\u001B[39;49m\u001B[38;5;124;43mvalue\u001B[39;49m\u001B[38;5;124;43m\"\u001B[39;49m\u001B[43m:\u001B[49m\u001B[43m \u001B[49m\u001B[43mvalue\u001B[49m\u001B[43m}\u001B[49m\u001B[43m)\u001B[49m[\u001B[38;5;124m\"\u001B[39m\u001B[38;5;124mvalue\u001B[39m\u001B[38;5;124m\"\u001B[39m]\n",
      "File \u001B[0;32m~/PycharmProjects/BasicPython/venv/lib/python3.10/site-packages/selenium/webdriver/remote/webdriver.py:348\u001B[0m, in \u001B[0;36mWebDriver.execute\u001B[0;34m(self, driver_command, params)\u001B[0m\n\u001B[1;32m    346\u001B[0m response \u001B[38;5;241m=\u001B[39m \u001B[38;5;28mself\u001B[39m\u001B[38;5;241m.\u001B[39mcommand_executor\u001B[38;5;241m.\u001B[39mexecute(driver_command, params)\n\u001B[1;32m    347\u001B[0m \u001B[38;5;28;01mif\u001B[39;00m response:\n\u001B[0;32m--> 348\u001B[0m     \u001B[38;5;28;43mself\u001B[39;49m\u001B[38;5;241;43m.\u001B[39;49m\u001B[43merror_handler\u001B[49m\u001B[38;5;241;43m.\u001B[39;49m\u001B[43mcheck_response\u001B[49m\u001B[43m(\u001B[49m\u001B[43mresponse\u001B[49m\u001B[43m)\u001B[49m\n\u001B[1;32m    349\u001B[0m     response[\u001B[38;5;124m\"\u001B[39m\u001B[38;5;124mvalue\u001B[39m\u001B[38;5;124m\"\u001B[39m] \u001B[38;5;241m=\u001B[39m \u001B[38;5;28mself\u001B[39m\u001B[38;5;241m.\u001B[39m_unwrap_value(response\u001B[38;5;241m.\u001B[39mget(\u001B[38;5;124m\"\u001B[39m\u001B[38;5;124mvalue\u001B[39m\u001B[38;5;124m\"\u001B[39m, \u001B[38;5;28;01mNone\u001B[39;00m))\n\u001B[1;32m    350\u001B[0m     \u001B[38;5;28;01mreturn\u001B[39;00m response\n",
      "File \u001B[0;32m~/PycharmProjects/BasicPython/venv/lib/python3.10/site-packages/selenium/webdriver/remote/errorhandler.py:229\u001B[0m, in \u001B[0;36mErrorHandler.check_response\u001B[0;34m(self, response)\u001B[0m\n\u001B[1;32m    227\u001B[0m         alert_text \u001B[38;5;241m=\u001B[39m value[\u001B[38;5;124m\"\u001B[39m\u001B[38;5;124malert\u001B[39m\u001B[38;5;124m\"\u001B[39m]\u001B[38;5;241m.\u001B[39mget(\u001B[38;5;124m\"\u001B[39m\u001B[38;5;124mtext\u001B[39m\u001B[38;5;124m\"\u001B[39m)\n\u001B[1;32m    228\u001B[0m     \u001B[38;5;28;01mraise\u001B[39;00m exception_class(message, screen, stacktrace, alert_text)  \u001B[38;5;66;03m# type: ignore[call-arg]  # mypy is not smart enough here\u001B[39;00m\n\u001B[0;32m--> 229\u001B[0m \u001B[38;5;28;01mraise\u001B[39;00m exception_class(message, screen, stacktrace)\n",
      "\u001B[0;31mNoSuchWindowException\u001B[0m: Message: no such window: target window already closed\nfrom unknown error: web view not found\n  (Session info: chrome=119.0.6045.123)\nStacktrace:\n#0 0x5561858295e3 <unknown>\n#1 0x5561854ec0b7 <unknown>\n#2 0x5561854c01b8 <unknown>\n#3 0x5561855666ef <unknown>\n#4 0x55618557c306 <unknown>\n#5 0x556185560cc3 <unknown>\n#6 0x55618552c0e4 <unknown>\n#7 0x55618552d0ae <unknown>\n#8 0x5561857efce1 <unknown>\n#9 0x5561857f3b7e <unknown>\n#10 0x5561857dd4b5 <unknown>\n#11 0x5561857f47d6 <unknown>\n#12 0x5561857c0dbf <unknown>\n#13 0x556185817748 <unknown>\n#14 0x556185817917 <unknown>\n#15 0x556185828773 <unknown>\n#16 0x7f1475d08b43 <unknown>\n"
     ]
    }
   ],
   "source": [
    "driver = webdriver.Chrome()\n",
    "url = 'https://naver.com'\n",
    "driver.get(url)\n",
    "search = driver.find_element(By.XPATH, '//*[@id=\"query\"]')\n",
    "search.send_keys('피자')\n",
    "search.send_keys(Keys.ENTER)\n",
    "\n",
    "driver.implicitly_wait(5)\n",
    "\n",
    "shopping = driver.find_element(By.XPATH, '//*[@id=\"main_pack\"]/section[1]/div[1]/div[3]/div[1]/div[1]/ul')\n",
    "\n",
    "list = shopping.find_elements(By.CSS_SELECTOR, '#main_pack > section.sc_new.sp_nshop._shopping_root > div:nth-child(1) > div.shop_guide_group._content_root > div:nth-child(1) > div.shop_list_divide._page._ad._calledAdLog > ul > li.box._ad._calledAdVisibleLog > div > div > a')\n",
    "for item in list:\n",
    "    print(item)\n"
   ],
   "metadata": {
    "collapsed": false,
    "ExecuteTime": {
     "end_time": "2023-12-11T00:11:07.267998687Z",
     "start_time": "2023-12-11T00:11:03.999100285Z"
    }
   },
   "id": "9aed1c2da3314574"
  }
 ],
 "metadata": {
  "kernelspec": {
   "display_name": "Python 3",
   "language": "python",
   "name": "python3"
  },
  "language_info": {
   "codemirror_mode": {
    "name": "ipython",
    "version": 2
   },
   "file_extension": ".py",
   "mimetype": "text/x-python",
   "name": "python",
   "nbconvert_exporter": "python",
   "pygments_lexer": "ipython2",
   "version": "2.7.6"
  }
 },
 "nbformat": 4,
 "nbformat_minor": 5
}
