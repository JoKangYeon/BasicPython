{
 "cells": [
  {
   "cell_type": "code",
   "execution_count": 2,
   "id": "initial_id",
   "metadata": {
    "collapsed": true,
    "ExecuteTime": {
     "end_time": "2023-12-07T08:35:55.223783371Z",
     "start_time": "2023-12-07T08:35:55.010677788Z"
    }
   },
   "outputs": [
    {
     "name": "stdout",
     "output_type": "stream",
     "text": [
      "['시트1']\n"
     ]
    }
   ],
   "source": [
    "import openpyxl\n",
    "\n",
    "workbook = openpyxl.load_workbook('dataset/characters.xlsx')\n",
    "print(workbook.sheetnames)"
   ]
  },
  {
   "cell_type": "code",
   "execution_count": 6,
   "outputs": [
    {
     "name": "stdout",
     "output_type": "stream",
     "text": [
      "1\n"
     ]
    }
   ],
   "source": [
    "sheet1 = workbook['시트1']\n",
    "print(sheet1['A1'].value)"
   ],
   "metadata": {
    "collapsed": false,
    "ExecuteTime": {
     "end_time": "2023-12-07T07:11:31.393316890Z",
     "start_time": "2023-12-07T07:11:31.349693882Z"
    }
   },
   "id": "9f5f2a1710da4e82"
  },
  {
   "cell_type": "code",
   "execution_count": 7,
   "outputs": [
    {
     "name": "stdout",
     "output_type": "stream",
     "text": [
      "뽀로로\n"
     ]
    }
   ],
   "source": [
    "print(sheet1['B1'].value)\n"
   ],
   "metadata": {
    "collapsed": false,
    "ExecuteTime": {
     "end_time": "2023-12-07T07:11:42.710120983Z",
     "start_time": "2023-12-07T07:11:42.697166425Z"
    }
   },
   "id": "108f45a7662fb006"
  },
  {
   "cell_type": "code",
   "execution_count": 12,
   "outputs": [
    {
     "name": "stdout",
     "output_type": "stream",
     "text": [
      "1\n",
      "뽀로로\n",
      "파랑색\n",
      "낚시\n",
      "펭귄\n",
      "\n",
      "2\n",
      "에디\n",
      "주황색\n",
      "과학실험\n",
      "사막여우\n",
      "\n",
      "3\n",
      "크롱\n",
      "초록색\n",
      "눈싸움\n",
      "공룡\n",
      "\n",
      "4\n",
      "루피\n",
      "분홍색\n",
      "요리\n",
      "비버\n",
      "\n",
      "5\n",
      "패티\n",
      "보라색\n",
      "운동\n",
      "펭귄\n",
      "\n",
      "6\n",
      "포비\n",
      "흰색\n",
      "춤\n",
      "북극곰\n"
     ]
    }
   ],
   "source": [
    "for line in sheet1:\n",
    "    for cell in line:\n",
    "        print(cell.value)\n",
    "    print()"
   ],
   "metadata": {
    "collapsed": false,
    "ExecuteTime": {
     "end_time": "2023-12-07T07:21:01.453584956Z",
     "start_time": "2023-12-07T07:21:01.407146153Z"
    }
   },
   "id": "90c4d1b930f01700"
  },
  {
   "cell_type": "code",
   "execution_count": 16,
   "outputs": [
    {
     "name": "stdout",
     "output_type": "stream",
     "text": [
      "['Sheet']\n",
      "['Sheet', 'Sheet2']\n"
     ]
    }
   ],
   "source": [
    "# 엑셀 파일 만들기\n",
    "wb = openpyxl.Workbook()\n",
    "print(wb.sheetnames)\n",
    "wb.create_sheet('Sheet2')\n",
    "print(wb.sheetnames)"
   ],
   "metadata": {
    "collapsed": false,
    "ExecuteTime": {
     "end_time": "2023-12-07T07:24:31.141484523Z",
     "start_time": "2023-12-07T07:24:31.098889292Z"
    }
   },
   "id": "98ce3a8b0242b00d"
  },
  {
   "cell_type": "code",
   "execution_count": 24,
   "outputs": [
    {
     "ename": "KeyError",
     "evalue": "'Worksheet Sheet does not exist.'",
     "output_type": "error",
     "traceback": [
      "\u001B[0;31m---------------------------------------------------------------------------\u001B[0m",
      "\u001B[0;31mKeyError\u001B[0m                                  Traceback (most recent call last)",
      "Cell \u001B[0;32mIn[24], line 1\u001B[0m\n\u001B[0;32m----> 1\u001B[0m sheet1 \u001B[38;5;241m=\u001B[39m \u001B[43mwb\u001B[49m\u001B[43m[\u001B[49m\u001B[38;5;124;43m'\u001B[39;49m\u001B[38;5;124;43mSheet\u001B[39;49m\u001B[38;5;124;43m'\u001B[39;49m\u001B[43m]\u001B[49m\n\u001B[1;32m      2\u001B[0m sheet2 \u001B[38;5;241m=\u001B[39m wb[\u001B[38;5;124m'\u001B[39m\u001B[38;5;124mSheet2\u001B[39m\u001B[38;5;124m'\u001B[39m]\n\u001B[1;32m      3\u001B[0m sheet1\u001B[38;5;241m.\u001B[39mtitle \u001B[38;5;241m=\u001B[39m \u001B[38;5;124m'\u001B[39m\u001B[38;5;124m캐릭터 명단\u001B[39m\u001B[38;5;124m'\u001B[39m\n",
      "File \u001B[0;32m~/PycharmProjects/BasicPython/venv/lib/python3.10/site-packages/openpyxl/workbook/workbook.py:287\u001B[0m, in \u001B[0;36mWorkbook.__getitem__\u001B[0;34m(self, key)\u001B[0m\n\u001B[1;32m    285\u001B[0m     \u001B[38;5;28;01mif\u001B[39;00m sheet\u001B[38;5;241m.\u001B[39mtitle \u001B[38;5;241m==\u001B[39m key:\n\u001B[1;32m    286\u001B[0m         \u001B[38;5;28;01mreturn\u001B[39;00m sheet\n\u001B[0;32m--> 287\u001B[0m \u001B[38;5;28;01mraise\u001B[39;00m \u001B[38;5;167;01mKeyError\u001B[39;00m(\u001B[38;5;124m\"\u001B[39m\u001B[38;5;124mWorksheet \u001B[39m\u001B[38;5;132;01m{0}\u001B[39;00m\u001B[38;5;124m does not exist.\u001B[39m\u001B[38;5;124m\"\u001B[39m\u001B[38;5;241m.\u001B[39mformat(key))\n",
      "\u001B[0;31mKeyError\u001B[0m: 'Worksheet Sheet does not exist.'"
     ]
    }
   ],
   "source": [
    "sheet1 = wb['Sheet']\n",
    "sheet2 = wb['Sheet2']\n",
    "sheet1.title = '캐릭터 명단'\n",
    "sheet2.title = '인기도 조사'\n",
    "print(wb.sheetnames)"
   ],
   "metadata": {
    "collapsed": false,
    "ExecuteTime": {
     "end_time": "2023-12-07T07:29:31.808980291Z",
     "start_time": "2023-12-07T07:29:31.804420149Z"
    }
   },
   "id": "a292831410cdccea"
  },
  {
   "cell_type": "code",
   "execution_count": 26,
   "outputs": [],
   "source": [
    "sheet2['B1'] = '인기도 조사 결과'\n",
    "wb.save('dataset/complete.xlsx')\n",
    "\n",
    "copysheet = wb.copy_worksheet(sheet2)\n",
    "copysheet.title = '인기도 조사 copy'\n",
    "wb.save('dataset/complete.xlsx')"
   ],
   "metadata": {
    "collapsed": false,
    "ExecuteTime": {
     "end_time": "2023-12-07T07:31:06.381341365Z",
     "start_time": "2023-12-07T07:31:06.340384507Z"
    }
   },
   "id": "ebae17a1cb874c87"
  },
  {
   "cell_type": "code",
   "execution_count": 29,
   "outputs": [],
   "source": [
    "sheet2['B1'] = '인기도 조사 결과'\n",
    "sheet2.append(['성명', '나이', '휴대전화번호', '주소'])\n",
    "wb.save('dataset/complete.xlsx')"
   ],
   "metadata": {
    "collapsed": false,
    "ExecuteTime": {
     "end_time": "2023-12-07T08:03:57.281600921Z",
     "start_time": "2023-12-07T08:03:57.241805897Z"
    }
   },
   "id": "b2f1a40508c886f3"
  },
  {
   "cell_type": "code",
   "execution_count": 37,
   "outputs": [],
   "source": [
    "# traffic = openpyxl.Workbook()\n",
    "# traffic.save('dataset/traffic.xlsx')"
   ],
   "metadata": {
    "collapsed": false,
    "ExecuteTime": {
     "end_time": "2023-12-07T08:11:14.761224984Z",
     "start_time": "2023-12-07T08:11:14.718724527Z"
    }
   },
   "id": "d79278b345140b01"
  },
  {
   "cell_type": "code",
   "execution_count": 45,
   "outputs": [],
   "source": [
    "# traffic = openpyxl.Workbook()\n",
    "# traffic.create_sheet('경기도')\n",
    "# traffic.create_sheet('대전')\n",
    "# sheet_a = traffic['Sheet']\n",
    "# sheet_a.title = '서울'\n",
    "# traffic.save('dataset/traffic.xlsx')"
   ],
   "metadata": {
    "collapsed": false,
    "ExecuteTime": {
     "end_time": "2023-12-07T08:17:21.585306094Z",
     "start_time": "2023-12-07T08:17:21.541308004Z"
    }
   },
   "id": "28bce63673402b69"
  },
  {
   "cell_type": "code",
   "execution_count": 7,
   "outputs": [],
   "source": [
    "traffic = openpyxl.Workbook()\n",
    "ws = traffic.active\n",
    "import csv\n",
    "with open('dataset/data1.csv', 'r', encoding='MS949') as f:\n",
    "    reader = csv.reader(f)\n",
    "    for i in reader:\n",
    "        ws.append(i)\n",
    "ws.title = '서울'\n",
    "\n",
    "traffic.save('dataset/traffic.xlsx')    "
   ],
   "metadata": {
    "collapsed": false,
    "ExecuteTime": {
     "end_time": "2023-12-07T08:41:36.217031497Z",
     "start_time": "2023-12-07T08:41:34.995972968Z"
    }
   },
   "id": "157f8988e4eaa75a"
  },
  {
   "cell_type": "code",
   "execution_count": 9,
   "outputs": [],
   "source": [
    "aa = traffic.create_sheet('대전')\n",
    "with open('dataset/data3.csv', 'r', encoding='MS949') as f:\n",
    "    reader = csv.reader(f)\n",
    "    for i in reader:\n",
    "        aa.append(i)\n",
    "traffic.save('dataset/traffic.xlsx')"
   ],
   "metadata": {
    "collapsed": false,
    "ExecuteTime": {
     "end_time": "2023-12-07T09:13:33.656390488Z",
     "start_time": "2023-12-07T09:13:32.749406717Z"
    }
   },
   "id": "c154d965bd5549"
  },
  {
   "cell_type": "code",
   "execution_count": null,
   "outputs": [],
   "source": [],
   "metadata": {
    "collapsed": false
   },
   "id": "ebc19633ec1c62a1"
  }
 ],
 "metadata": {
  "kernelspec": {
   "display_name": "Python 3",
   "language": "python",
   "name": "python3"
  },
  "language_info": {
   "codemirror_mode": {
    "name": "ipython",
    "version": 2
   },
   "file_extension": ".py",
   "mimetype": "text/x-python",
   "name": "python",
   "nbconvert_exporter": "python",
   "pygments_lexer": "ipython2",
   "version": "2.7.6"
  }
 },
 "nbformat": 4,
 "nbformat_minor": 5
}
