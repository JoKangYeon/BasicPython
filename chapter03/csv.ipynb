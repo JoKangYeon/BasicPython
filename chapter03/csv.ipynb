{
 "cells": [
  {
   "cell_type": "code",
   "execution_count": null,
   "outputs": [],
   "source": [],
   "metadata": {
    "collapsed": false,
    "ExecuteTime": {
     "end_time": "2023-12-07T05:29:04.354391097Z",
     "start_time": "2023-12-07T05:29:04.353764923Z"
    }
   },
   "id": "d8e195c8625ed7ce"
  },
  {
   "cell_type": "code",
   "execution_count": 6,
   "outputs": [
    {
     "name": "stdout",
     "output_type": "stream",
     "text": [
      "[['이름', '국어', '영어', '수학'], ['철수', '100', '90', '80'], ['영수', '90', '95', '75'], ['영희', '55', '44', '33']]\n"
     ]
    }
   ],
   "source": [
    "f = open('dataset/score.csv', 'r', encoding='utf-8')\n",
    "scores = []\n",
    "for line in f:\n",
    "    score = line.strip().split(\",\")\n",
    "    scores.append(score)    \n",
    "    \n",
    "print(scores)    "
   ],
   "metadata": {
    "collapsed": false,
    "ExecuteTime": {
     "end_time": "2023-12-07T05:38:20.757499076Z",
     "start_time": "2023-12-07T05:38:20.743855983Z"
    }
   },
   "id": "1df0154a7d3e9959"
  },
  {
   "cell_type": "code",
   "execution_count": 8,
   "outputs": [
    {
     "name": "stdout",
     "output_type": "stream",
     "text": [
      "['이름', '국어', '영어', '수학']\n",
      "['철수', '100', '90', '80']\n",
      "['영수', '90', '95', '75']\n",
      "['영희', '55', '44', '33']\n"
     ]
    }
   ],
   "source": [
    "import csv\n",
    "f = open('dataset/score.csv', 'r', encoding='utf-8')\n",
    "reader = csv.reader(f)\n",
    "for line in reader:\n",
    "    print(line)\n",
    "f.close()"
   ],
   "metadata": {
    "collapsed": false,
    "ExecuteTime": {
     "end_time": "2023-12-07T06:05:28.717759586Z",
     "start_time": "2023-12-07T06:05:28.673918530Z"
    }
   },
   "id": "66c2efdcfe03018e"
  },
  {
   "cell_type": "code",
   "execution_count": 11,
   "outputs": [
    {
     "name": "stdout",
     "output_type": "stream",
     "text": [
      "['이름', '국어', '영어', '수학']\n",
      "['철수', '100', '90', '80']\n",
      "['영수', '90', '95', '75']\n",
      "['영희', '55', '44', '33']\n"
     ]
    }
   ],
   "source": [
    "with open('dataset/score.csv', 'r', encoding='utf-8') as f:\n",
    "    reader = csv.reader(f)\n",
    "    for score in reader:\n",
    "        print(score)"
   ],
   "metadata": {
    "collapsed": false,
    "ExecuteTime": {
     "end_time": "2023-12-07T06:21:47.474061260Z",
     "start_time": "2023-12-07T06:21:47.430840736Z"
    }
   },
   "id": "2345f4c93a5284fe"
  },
  {
   "cell_type": "code",
   "execution_count": 16,
   "outputs": [],
   "source": [
    "# csv 라이브러리를 이용하여 파일 작성하기\n",
    "with open('dataset/write.csv', 'w', encoding='utf-8', newline='') as f:\n",
    "    writer = csv.writer(f)\n",
    "    writer.writerow(['ID', '이름', '상징색', '취미', '특징'])\n",
    "    writer.writerow(['001', '뽀로로', '파랑색', '낚시', '펭귄'])\n",
    "    writer.writerow(['002', '뽀로로2', '주황색', '권투', '사막여우'])\n",
    "    writer.writerow(['003', '뽀로로3', '초록색', '축구', '코뿔소'])\n",
    "    writer.writerow(['004', '뽀로로4', '분홍색', '달리기', '두꺼비'])\n",
    "    writer.writerow(['005', '뽀로로5', '검정색', '요리', '비버'])"
   ],
   "metadata": {
    "collapsed": false,
    "ExecuteTime": {
     "end_time": "2023-12-07T06:32:08.821441924Z",
     "start_time": "2023-12-07T06:32:08.778619527Z"
    }
   },
   "id": "78fc3033a479fbdb"
  },
  {
   "cell_type": "code",
   "execution_count": 17,
   "outputs": [],
   "source": [
    "# 데이터 추가하기\n",
    "with open('dataset/write.csv', 'a', encoding='utf-8', newline='') as f:\n",
    "        writer = csv.writer(f)\n",
    "        writer.writerow(['006', '뽀로로6', '검빨정색', '달리기', '원숭이'])\n"
   ],
   "metadata": {
    "collapsed": false,
    "ExecuteTime": {
     "end_time": "2023-12-07T06:32:21.540703343Z",
     "start_time": "2023-12-07T06:32:21.532389801Z"
    }
   },
   "id": "fde163a93178816f"
  },
  {
   "cell_type": "code",
   "execution_count": 21,
   "outputs": [],
   "source": [
    "with open('dataset/weather.csv', 'a', encoding='utf-8', newline='') as f:\n",
    "    writer = csv.writer(f)\n",
    "    writer.writerow(['날짜', '요일', '날씨', '최저기온', '최고기온', '강수량'])\n",
    "    writer.writerow(['20230101', '월', '맑음', -4.3, 3.8, 0])\n",
    "    writer.writerow(['20230102', '화', '맑음', -7.4, 0.4, 0])\n",
    "    writer.writerow(['20230103', '수', '맑음', -9.0, 0.6, 0])\n"
   ],
   "metadata": {
    "collapsed": false,
    "ExecuteTime": {
     "end_time": "2023-12-07T06:55:08.394045126Z",
     "start_time": "2023-12-07T06:55:08.331382381Z"
    }
   },
   "id": "4d1e3caedddd99ea"
  },
  {
   "cell_type": "code",
   "execution_count": null,
   "outputs": [],
   "source": [],
   "metadata": {
    "collapsed": false
   },
   "id": "8414ae4ba324890c"
  }
 ],
 "metadata": {
  "kernelspec": {
   "display_name": "Python 3",
   "language": "python",
   "name": "python3"
  },
  "language_info": {
   "codemirror_mode": {
    "name": "ipython",
    "version": 2
   },
   "file_extension": ".py",
   "mimetype": "text/x-python",
   "name": "python",
   "nbconvert_exporter": "python",
   "pygments_lexer": "ipython2",
   "version": "2.7.6"
  }
 },
 "nbformat": 4,
 "nbformat_minor": 5
}
