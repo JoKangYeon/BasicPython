{
 "cells": [
  {
   "cell_type": "code",
   "execution_count": 3,
   "id": "initial_id",
   "metadata": {
    "collapsed": true,
    "ExecuteTime": {
     "end_time": "2023-12-06T08:08:07.785656757Z",
     "start_time": "2023-12-06T08:08:07.737194373Z"
    }
   },
   "outputs": [
    {
     "name": "stdout",
     "output_type": "stream",
     "text": [
      "550\n"
     ]
    }
   ],
   "source": [
    "num_list = [1, 2, 3, 4, 5, 6, 7, 8, 9, 10]\n",
    "# 리스트의 모든 수를 더하고 그 합의 10배를 반환하는 함수 작성\n",
    "def sum_list(arr: list = [1, 2, 3]):\n",
    "    sum = 0\n",
    "    for a in arr:\n",
    "        sum += a\n",
    "    return sum * 10\n",
    "print(sum_list(num_list))\n",
    "    "
   ]
  },
  {
   "cell_type": "code",
   "execution_count": 1,
   "outputs": [
    {
     "data": {
      "text/plain": "'소수입니다'"
     },
     "execution_count": 1,
     "metadata": {},
     "output_type": "execute_result"
    }
   ],
   "source": [
    "# 소수\n",
    "def check_prime_num (x):\n",
    "    check = 0\n",
    "    if x == 2:\n",
    "        return \"소수입니다.\"\n",
    "    if x > 2:\n",
    "        for i in range(2, x):\n",
    "            if(x % i == 0):\n",
    "                check += 1\n",
    "    if check == 0:\n",
    "        return \"소수입니다\"\n",
    "    else:\n",
    "        return \"소수가 아닙니다.\"\n",
    "\n",
    "check_prime_num(11)\n",
    "            "
   ],
   "metadata": {
    "collapsed": false,
    "ExecuteTime": {
     "end_time": "2023-12-07T04:56:35.822371901Z",
     "start_time": "2023-12-07T04:56:35.818195050Z"
    }
   },
   "id": "813264a9858f7667"
  },
  {
   "cell_type": "code",
   "execution_count": 4,
   "outputs": [
    {
     "name": "stdout",
     "output_type": "stream",
     "text": [
      "200000.0\n"
     ]
    }
   ],
   "source": [
    "def interest_year(p, r,n):\n",
    "    return p * (1+r) ** n\n",
    "\n",
    "p = 10000000\n",
    "r = 0.02\n",
    "n = 1\n",
    "print(interest_year(p,r,n) - p)\n",
    "    \n",
    "    "
   ],
   "metadata": {
    "collapsed": false,
    "ExecuteTime": {
     "end_time": "2023-12-07T05:12:53.383827439Z",
     "start_time": "2023-12-07T05:12:53.376138355Z"
    }
   },
   "id": "7a2eb54a5379a298"
  }
 ],
 "metadata": {
  "kernelspec": {
   "display_name": "Python 3",
   "language": "python",
   "name": "python3"
  },
  "language_info": {
   "codemirror_mode": {
    "name": "ipython",
    "version": 2
   },
   "file_extension": ".py",
   "mimetype": "text/x-python",
   "name": "python",
   "nbconvert_exporter": "python",
   "pygments_lexer": "ipython2",
   "version": "2.7.6"
  }
 },
 "nbformat": 4,
 "nbformat_minor": 5
}
