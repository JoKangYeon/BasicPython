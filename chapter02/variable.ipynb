{
 "cells": [
  {
   "cell_type": "code",
   "execution_count": 1,
   "id": "initial_id",
   "metadata": {
    "collapsed": true,
    "ExecuteTime": {
     "end_time": "2023-12-04T07:30:19.539700164Z",
     "start_time": "2023-12-04T07:30:19.511051020Z"
    }
   },
   "outputs": [
    {
     "name": "stdout",
     "output_type": "stream",
     "text": [
      "hello\n"
     ]
    }
   ],
   "source": [
    "print('hello')"
   ]
  },
  {
   "cell_type": "code",
   "execution_count": 13,
   "outputs": [
    {
     "name": "stdout",
     "output_type": "stream",
     "text": [
      "철수\n",
      "영희\n",
      "대전광역시 중구\n"
     ]
    }
   ],
   "source": [
    "name = '철수'\n",
    "print(name)\n",
    "name = '영희'\n",
    "print(name)\n",
    "\n",
    "# 주소를 저장할 변수 addr에 '대전광역시 중구'를 할당하고 print()함수로 출력하시오.\n",
    "addr = '대전광역시 중구'\n",
    "print(addr)\n",
    "\n"
   ],
   "metadata": {
    "collapsed": false,
    "ExecuteTime": {
     "end_time": "2023-12-04T08:23:42.241915242Z",
     "start_time": "2023-12-04T08:23:42.233661387Z"
    }
   },
   "id": "6a423c1ecc79fc44"
  },
  {
   "cell_type": "markdown",
   "source": [
    "# 제목\n",
    "## 부제목\n",
    "### 안녕하세요!\n"
   ],
   "metadata": {
    "collapsed": false
   },
   "id": "89d9004d8a3a88a8"
  },
  {
   "cell_type": "code",
   "execution_count": 15,
   "outputs": [
    {
     "name": "stdout",
     "output_type": "stream",
     "text": [
      "3.141592\n",
      "3.14\n"
     ]
    }
   ],
   "source": [
    "PI = 3.141592\n",
    "print(PI)\n",
    "PI =3.14\n",
    "print(PI)"
   ],
   "metadata": {
    "collapsed": false,
    "ExecuteTime": {
     "end_time": "2023-12-04T08:25:46.681562293Z",
     "start_time": "2023-12-04T08:25:46.675932532Z"
    }
   },
   "id": "20d7f863bed234a9"
  },
  {
   "cell_type": "code",
   "execution_count": 20,
   "outputs": [
    {
     "data": {
      "text/plain": "3.3333333333333335"
     },
     "execution_count": 20,
     "metadata": {},
     "output_type": "execute_result"
    }
   ],
   "source": [
    "10 / 3"
   ],
   "metadata": {
    "collapsed": false,
    "ExecuteTime": {
     "end_time": "2023-12-04T08:28:25.445304911Z",
     "start_time": "2023-12-04T08:28:25.431082397Z"
    }
   },
   "id": "ab0b0c72786bb789"
  },
  {
   "cell_type": "code",
   "execution_count": 19,
   "outputs": [
    {
     "data": {
      "text/plain": "3"
     },
     "execution_count": 19,
     "metadata": {},
     "output_type": "execute_result"
    }
   ],
   "source": [
    "10 // 3\n"
   ],
   "metadata": {
    "collapsed": false,
    "ExecuteTime": {
     "end_time": "2023-12-04T08:28:22.275937905Z",
     "start_time": "2023-12-04T08:28:22.198553606Z"
    }
   },
   "id": "dbbbd0556b1685d7"
  },
  {
   "cell_type": "code",
   "execution_count": 22,
   "outputs": [
    {
     "data": {
      "text/plain": "False"
     },
     "execution_count": 22,
     "metadata": {},
     "output_type": "execute_result"
    }
   ],
   "source": [
    "not(11 > 4)"
   ],
   "metadata": {
    "collapsed": false,
    "ExecuteTime": {
     "end_time": "2023-12-04T08:31:52.092457923Z",
     "start_time": "2023-12-04T08:31:52.045387156Z"
    }
   },
   "id": "b5097fc4a54f5eb9"
  },
  {
   "cell_type": "code",
   "execution_count": 30,
   "outputs": [
    {
     "data": {
      "text/plain": "''"
     },
     "execution_count": 30,
     "metadata": {},
     "output_type": "execute_result"
    }
   ],
   "source": [
    "4 and \"\""
   ],
   "metadata": {
    "collapsed": false,
    "ExecuteTime": {
     "end_time": "2023-12-04T08:34:32.253832024Z",
     "start_time": "2023-12-04T08:34:32.247885755Z"
    }
   },
   "id": "e26427ffebb716c6"
  },
  {
   "cell_type": "code",
   "execution_count": 31,
   "outputs": [
    {
     "data": {
      "text/plain": "94.985"
     },
     "execution_count": 31,
     "metadata": {},
     "output_type": "execute_result"
    }
   ],
   "source": [
    "PI = 3.14\n",
    "PI * 5.5 * 5.5"
   ],
   "metadata": {
    "collapsed": false,
    "ExecuteTime": {
     "end_time": "2023-12-04T08:36:52.836847247Z",
     "start_time": "2023-12-04T08:36:52.795579214Z"
    }
   },
   "id": "a7d463027acff05e"
  },
  {
   "cell_type": "code",
   "execution_count": 34,
   "outputs": [
    {
     "name": "stdout",
     "output_type": "stream",
     "text": [
      "20\n",
      "22\n"
     ]
    },
    {
     "data": {
      "text/plain": "False"
     },
     "execution_count": 34,
     "metadata": {},
     "output_type": "execute_result"
    }
   ],
   "source": [
    "a = 10 * 4 // 2\n",
    "b = 9 * 5 // 2\n",
    "print(a)\n",
    "print(b)\n",
    "a == b"
   ],
   "metadata": {
    "collapsed": false,
    "ExecuteTime": {
     "end_time": "2023-12-04T08:38:35.799304769Z",
     "start_time": "2023-12-04T08:38:35.796976147Z"
    }
   },
   "id": "4c75327adbd867fe"
  },
  {
   "cell_type": "code",
   "execution_count": 35,
   "outputs": [
    {
     "data": {
      "text/plain": "95"
     },
     "execution_count": 35,
     "metadata": {},
     "output_type": "execute_result"
    }
   ],
   "source": [
    "avg = 92 * 4\n",
    "science = avg - 95 - 88 - 90\n",
    "science"
   ],
   "metadata": {
    "collapsed": false,
    "ExecuteTime": {
     "end_time": "2023-12-04T08:39:58.628434261Z",
     "start_time": "2023-12-04T08:39:58.586298874Z"
    }
   },
   "id": "1b3b8738bda0fc65"
  },
  {
   "cell_type": "code",
   "execution_count": 2,
   "outputs": [
    {
     "name": "stdout",
     "output_type": "stream",
     "text": [
      "True\n"
     ]
    }
   ],
   "source": [
    "a = [1, 2, 3, 4, 5, 6]\n",
    "print(3 in a)"
   ],
   "metadata": {
    "collapsed": false,
    "ExecuteTime": {
     "end_time": "2023-12-05T04:54:44.561967578Z",
     "start_time": "2023-12-05T04:54:44.552498634Z"
    }
   },
   "id": "995cfbc9ea8d6c84"
  },
  {
   "cell_type": "code",
   "execution_count": null,
   "outputs": [],
   "source": [],
   "metadata": {
    "collapsed": false
   },
   "id": "fd611525d0ca9c0f"
  }
 ],
 "metadata": {
  "kernelspec": {
   "display_name": "Python 3",
   "language": "python",
   "name": "python3"
  },
  "language_info": {
   "codemirror_mode": {
    "name": "ipython",
    "version": 2
   },
   "file_extension": ".py",
   "mimetype": "text/x-python",
   "name": "python",
   "nbconvert_exporter": "python",
   "pygments_lexer": "ipython2",
   "version": "2.7.6"
  }
 },
 "nbformat": 4,
 "nbformat_minor": 5
}
