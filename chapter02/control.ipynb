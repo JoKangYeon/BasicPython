{
 "cells": [
  {
   "cell_type": "code",
   "execution_count": 1,
   "id": "initial_id",
   "metadata": {
    "collapsed": true,
    "ExecuteTime": {
     "end_time": "2023-12-05T04:59:23.331367336Z",
     "start_time": "2023-12-05T04:59:23.329120249Z"
    }
   },
   "outputs": [
    {
     "name": "stdout",
     "output_type": "stream",
     "text": [
      "a = 5\n"
     ]
    }
   ],
   "source": [
    "a=5\n",
    "if a==5:\n",
    "    print('a = 5')"
   ]
  },
  {
   "cell_type": "code",
   "execution_count": 3,
   "outputs": [
    {
     "name": "stdout",
     "output_type": "stream",
     "text": [
      "Right\n",
      "a is not 3\n"
     ]
    }
   ],
   "source": [
    "a = input('값을 입력하세요.')\n",
    "a = int(a)\n",
    "\n",
    "if a == 5:\n",
    "    print('Right')\n",
    "    print(\"a is 5\")\n",
    "if a == 3:\n",
    "    print('Right')\n",
    "    print(\"a is 3\")\n",
    "if a != 3:\n",
    "    print('Right')\n",
    "    print(\"a is not 3\")    \n",
    "    \n"
   ],
   "metadata": {
    "collapsed": false,
    "ExecuteTime": {
     "end_time": "2023-12-05T05:03:30.378442857Z",
     "start_time": "2023-12-05T05:03:28.661535918Z"
    }
   },
   "id": "30c7fa74cea72f2f"
  },
  {
   "cell_type": "code",
   "execution_count": 7,
   "outputs": [
    {
     "name": "stdout",
     "output_type": "stream",
     "text": [
      "Right\n",
      "b is 5\n"
     ]
    }
   ],
   "source": [
    "b = int(input('값을 입력하세요.'))\n",
    "\n",
    "if b == 5:\n",
    "    print('Right')\n",
    "    print(\"b is 5\")\n",
    "elif b == 3:\n",
    "    print('Right')\n",
    "    print(\"b is 3\")\n",
    "else:\n",
    "    print('b is not 5')\n",
    "    print(\"b is not 3\")   "
   ],
   "metadata": {
    "collapsed": false,
    "ExecuteTime": {
     "end_time": "2023-12-05T05:06:51.606483647Z",
     "start_time": "2023-12-05T05:06:49.561675823Z"
    }
   },
   "id": "fdbeba1965a9bfb2"
  },
  {
   "cell_type": "code",
   "execution_count": 9,
   "outputs": [
    {
     "name": "stdout",
     "output_type": "stream",
     "text": [
      "c is larger than 5\n"
     ]
    }
   ],
   "source": [
    "c = int(input('값을 입력하세요.'))\n",
    "if c < 5:\n",
    "    print('c is smaller than 5')\n",
    "elif c > 5:\n",
    "    print('c is larger than 5')\n",
    "else:\n",
    "    print('a is 5')"
   ],
   "metadata": {
    "collapsed": false,
    "ExecuteTime": {
     "end_time": "2023-12-05T05:08:33.046848792Z",
     "start_time": "2023-12-05T05:08:31.938403472Z"
    }
   },
   "id": "cf97ce46ce2c5661"
  },
  {
   "cell_type": "code",
   "execution_count": 10,
   "outputs": [
    {
     "name": "stdout",
     "output_type": "stream",
     "text": [
      "\"짝수\"\n"
     ]
    }
   ],
   "source": [
    "# a가 19이고 b가 12일 때, a * b * 3이 짝수이면 \"짝수\"를 출력하고, 홀수이면 \"홀수\"를 출력하는 코드 작성\n",
    "a = 19\n",
    "b = 12\n",
    "if (a * b * 3) % 2 == 0:\n",
    "    print('\"짝수\"')\n",
    "else:\n",
    "    print('\"홀수\"')"
   ],
   "metadata": {
    "collapsed": false,
    "ExecuteTime": {
     "end_time": "2023-12-05T05:12:26.944554869Z",
     "start_time": "2023-12-05T05:12:26.902214285Z"
    }
   },
   "id": "a59dcff0b1660cc3"
  },
  {
   "cell_type": "code",
   "execution_count": 22,
   "outputs": [
    {
     "name": "stdout",
     "output_type": "stream",
     "text": [
      "5 X 1 = 5\n",
      "5 X 2 = 10\n",
      "5 X 3 = 15\n",
      "5 X 4 = 20\n",
      "5 X 5 = 25\n",
      "5 X 6 = 30\n",
      "5 X 7 = 35\n",
      "5 X 8 = 40\n",
      "5 X 9 = 45\n"
     ]
    }
   ],
   "source": [
    "# 구구단 출력 \n",
    "dan = 5\n",
    "i = 1\n",
    "\n",
    "while i <= 9:\n",
    "    # print(str(dan) + ' X ' +  str(i) + ' = ' + str((dan * i)))\n",
    "    \n",
    "    # 1. str. format()을 사용\n",
    "    # print(\"{0} * {1} = {2}\".format(dan, i, dan * i))\n",
    "    \n",
    "    # 2. f-string을 사용   python 3.6 이상부터 가능\n",
    "    print(f\"{dan} X {i} = {dan* i}\")\n",
    "    \n",
    "    i += 1"
   ],
   "metadata": {
    "collapsed": false,
    "ExecuteTime": {
     "end_time": "2023-12-05T05:34:13.056053135Z",
     "start_time": "2023-12-05T05:34:13.012750719Z"
    }
   },
   "id": "1e1c2f48f9941d5"
  },
  {
   "cell_type": "code",
   "execution_count": 25,
   "outputs": [
    {
     "name": "stdout",
     "output_type": "stream",
     "text": [
      "7 X 1 = 7\n",
      "7 X 2 = 14\n",
      "7 X 3 = 21\n",
      "7 X 4 = 28\n",
      "7 X 5 = 35\n",
      "7 X 6 = 42\n",
      "7 X 7 = 49\n",
      "7 X 8 = 56\n",
      "7 X 9 = 63\n"
     ]
    }
   ],
   "source": [
    "dan = 7\n",
    "for i in range(1, 10): #range(start, end)는 start는 포함하고 end는 포함하지 않는다.\n",
    "    print(f\"{dan} X {i} = {dan*i}\")"
   ],
   "metadata": {
    "collapsed": false,
    "ExecuteTime": {
     "end_time": "2023-12-05T05:56:18.125453950Z",
     "start_time": "2023-12-05T05:56:18.117352716Z"
    }
   },
   "id": "b3341fb083bab67f"
  },
  {
   "cell_type": "code",
   "execution_count": 28,
   "outputs": [
    {
     "name": "stdout",
     "output_type": "stream",
     "text": [
      "2\n",
      "4\n",
      "6\n",
      "8\n",
      "10\n",
      "12\n",
      "14\n",
      "16\n",
      "18\n",
      "20\n",
      "22\n",
      "24\n",
      "26\n",
      "28\n",
      "30\n",
      "32\n",
      "34\n",
      "36\n",
      "38\n",
      "40\n",
      "42\n",
      "44\n",
      "46\n",
      "48\n",
      "50\n",
      "52\n",
      "54\n",
      "56\n",
      "58\n",
      "60\n",
      "62\n",
      "64\n",
      "66\n",
      "68\n",
      "70\n",
      "72\n",
      "74\n",
      "76\n",
      "78\n",
      "80\n",
      "82\n",
      "84\n",
      "86\n",
      "88\n",
      "90\n",
      "92\n",
      "94\n",
      "96\n",
      "98\n",
      "100\n",
      "2550\n"
     ]
    }
   ],
   "source": [
    "# 1부터 100까지의 짝수의 합을 구하시오.\n",
    "result = 0\n",
    "for i in range(2, 101, 2):\n",
    "    print(i)\n",
    "    result = result + i\n",
    "print(result)"
   ],
   "metadata": {
    "collapsed": false,
    "ExecuteTime": {
     "end_time": "2023-12-05T06:01:21.576193310Z",
     "start_time": "2023-12-05T06:01:21.535553035Z"
    }
   },
   "id": "fb1e1977eddece77"
  },
  {
   "cell_type": "code",
   "execution_count": 35,
   "outputs": [],
   "source": [
    "# 1~100사이의 소수의 합\n",
    "# for i in range(2, 100):\n",
    "#     for k in range(2, i):\n",
    "#         i / k "
   ],
   "metadata": {
    "collapsed": false,
    "ExecuteTime": {
     "end_time": "2023-12-05T06:12:32.896111390Z",
     "start_time": "2023-12-05T06:12:32.850740119Z"
    }
   },
   "id": "8a094427839e8f23"
  },
  {
   "cell_type": "code",
   "execution_count": 50,
   "outputs": [
    {
     "name": "stdout",
     "output_type": "stream",
     "text": [
      "3를 구매했습니다. 거스름돈은 700원 입니다.\n"
     ]
    }
   ],
   "source": [
    "while True:\n",
    "    a = int(input('1.오렌지주스 100원, 2.커피 200원, 3.콜라 300원'))\n",
    "    if a > 3:\n",
    "        print('다시 입력해주세요.')\n",
    "        break\n",
    "    b = int(input('넣을 금액을 입력해주세요'))    \n",
    "    if a == 1:\n",
    "        if b >= 100:\n",
    "            print(f'{a}를 구매했습니다. 거스름돈은 {b - 100}원 입니다.')\n",
    "            break\n",
    "        else:\n",
    "            print(f'금액이 {100 - b}원 부족합니다.')\n",
    "    elif a == 2:\n",
    "        if b >= 200:\n",
    "            print(f'{a}를 구매했습니다. 거스름돈은 {b - 200}원 입니다.')\n",
    "            break\n",
    "        else:\n",
    "            print(f'금액이 {200 - b}원 부족합니다.')\n",
    "    elif a == 3:\n",
    "        if b >= 300:\n",
    "            print(f'{a}를 구매했습니다. 거스름돈은 {b - 300}원 입니다.')\n",
    "            break\n",
    "        else:\n",
    "            print(f'금액이 {300 - b}원 부족합니다.')\n",
    "        "
   ],
   "metadata": {
    "collapsed": false,
    "ExecuteTime": {
     "end_time": "2023-12-05T07:00:10.072704246Z",
     "start_time": "2023-12-05T07:00:05.764853053Z"
    }
   },
   "id": "fa2d3ee5a6225927"
  }
 ],
 "metadata": {
  "kernelspec": {
   "display_name": "Python 3",
   "language": "python",
   "name": "python3"
  },
  "language_info": {
   "codemirror_mode": {
    "name": "ipython",
    "version": 2
   },
   "file_extension": ".py",
   "mimetype": "text/x-python",
   "name": "python",
   "nbconvert_exporter": "python",
   "pygments_lexer": "ipython2",
   "version": "2.7.6"
  }
 },
 "nbformat": 4,
 "nbformat_minor": 5
}
