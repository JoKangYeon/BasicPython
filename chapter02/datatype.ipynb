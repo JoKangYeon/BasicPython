{
 "cells": [
  {
   "cell_type": "code",
   "execution_count": 5,
   "id": "initial_id",
   "metadata": {
    "collapsed": true,
    "ExecuteTime": {
     "end_time": "2023-12-05T07:25:47.405058257Z",
     "start_time": "2023-12-05T07:25:47.363030287Z"
    }
   },
   "outputs": [
    {
     "name": "stdout",
     "output_type": "stream",
     "text": [
      "12300.0\n",
      "0.5 <class 'int'>\n"
     ]
    }
   ],
   "source": [
    "integer_1 = 3214\n",
    "integer_2 = -128109\n",
    "float_1 = 1.986214\n",
    "float_2 = 123.e2 # 123.0 * 10^2 \n",
    "print(float_2)\n",
    "print(10/20, type(10 // 20))"
   ]
  },
  {
   "cell_type": "code",
   "execution_count": 9,
   "outputs": [
    {
     "name": "stdout",
     "output_type": "stream",
     "text": [
      "This is String!\n"
     ]
    }
   ],
   "source": [
    "strings_1 = 'This is String!'\n",
    "strings_2 = \"This is String!\"\n",
    "strings_3 = '''This is String!'''\n",
    "strings_4 = \"\"\"This is String!\"\"\"\n",
    "strings_5 = \"\"\"\n",
    "안녕하세요.\n",
    "오늘은 화요일입니다.\n",
    "드디어 오후 4시 30분이 다가옵니다.\n",
    "\"\"\"\n",
    "print(strings_5)"
   ],
   "metadata": {
    "collapsed": false,
    "ExecuteTime": {
     "end_time": "2023-12-05T07:31:10.528897706Z",
     "start_time": "2023-12-05T07:31:10.488529812Z"
    }
   },
   "id": "d68beb8dfbec1af4"
  },
  {
   "cell_type": "code",
   "execution_count": 24,
   "outputs": [
    {
     "name": "stdout",
     "output_type": "stream",
     "text": [
      "2\n",
      "4\n",
      "가\n",
      "나\n",
      "다\n",
      "라\n",
      "마\n"
     ]
    }
   ],
   "source": [
    "# Tuple: 순서가 있는 데이터의 목록으로 값을 변경할 수 없다.\n",
    "# 기호로 소괄호()로 표현한다.\n",
    "list_a = (1, 2, 3, 4, 5)\n",
    "tuple_2 = '가', '나', '다', '라', '마'\n",
    "tuple_3 = '파이썬', 1000, False\n",
    "name, content, duple = '파이썬', (1000, '만큼', '쉬워'), False\n",
    "print(list_a[1])\n",
    "# list_a[3] = 400\n",
    "print(list_a[3])\n",
    "\n",
    "for word in tuple_2:\n",
    "    print(word)\n",
    "content"
   ],
   "metadata": {
    "collapsed": false,
    "ExecuteTime": {
     "end_time": "2023-12-05T08:06:30.082277824Z",
     "start_time": "2023-12-05T08:06:30.034142713Z"
    }
   },
   "id": "c1f18f12028d0857"
  },
  {
   "cell_type": "code",
   "execution_count": 27,
   "outputs": [
    {
     "name": "stdout",
     "output_type": "stream",
     "text": [
      "3\n"
     ]
    }
   ],
   "source": [
    "print(len(tuple_3))\n"
   ],
   "metadata": {
    "collapsed": false,
    "ExecuteTime": {
     "end_time": "2023-12-05T08:07:37.440421580Z",
     "start_time": "2023-12-05T08:07:37.434147564Z"
    }
   },
   "id": "9e1b0b6caea8e7ba"
  },
  {
   "cell_type": "code",
   "execution_count": 30,
   "outputs": [
    {
     "name": "stdout",
     "output_type": "stream",
     "text": [
      "{False, 1, 2, 3, '가', '다', '나'}\n",
      "{False, 1, 2, 3, '가', '다', '나'}\n",
      "{False, 1, 2, 3, '가', '나', '다'}\n"
     ]
    }
   ],
   "source": [
    "# Set(집합): 순서가 없으며 중복데이터가 존재하지 않는다.\n",
    "# 중괄호{}로 표현\n",
    "set1 = {1, 2, 3, '가', '나', '다', False, 2, '다', False}\n",
    "set2 = set({1, 2, 3, '가', '나', '다', False, 2, '다', False})\n",
    "set3 = set([1, 2, 3, '가', '나', '다', False, 2, '다', False])\n",
    "\n",
    "print(set1)\n",
    "print(set2)\n",
    "print(set3)"
   ],
   "metadata": {
    "collapsed": false,
    "ExecuteTime": {
     "end_time": "2023-12-05T08:23:32.180978845Z",
     "start_time": "2023-12-05T08:23:32.139380352Z"
    }
   },
   "id": "ef594009a76d7a26"
  },
  {
   "cell_type": "code",
   "execution_count": 32,
   "outputs": [
    {
     "name": "stdout",
     "output_type": "stream",
     "text": [
      "[1, 2, 3, 4, 5, 4, 3, 2, 7]\n",
      "[]\n",
      "9\n",
      "[1, 2, 3, 4, 5, 4, 9999, 2, 7]\n"
     ]
    }
   ],
   "source": [
    "# List: 파이썬에서 가장 많이 사용하는 자료형\n",
    "# 순서가 있고, 중복값도 존재함\n",
    "# 대괄호[]로 표현\n",
    "list1 = [1, 2, 3, 4, 5, 4, 3, 2, 7]\n",
    "list2 = []\n",
    "print(list1)\n",
    "print(list2)\n",
    "print(len(list1))\n",
    "list1[6] = 9999\n",
    "print(list1)"
   ],
   "metadata": {
    "collapsed": false,
    "ExecuteTime": {
     "end_time": "2023-12-05T08:29:01.496630170Z",
     "start_time": "2023-12-05T08:29:01.481015346Z"
    }
   },
   "id": "9ed73de315e7e3f2"
  },
  {
   "cell_type": "code",
   "execution_count": 33,
   "outputs": [
    {
     "name": "stdout",
     "output_type": "stream",
     "text": [
      "[877, 1, 2, 3, 4, 5, 4, 2, 7, 343]\n"
     ]
    }
   ],
   "source": [
    "list1.append(343)\n",
    "list1.insert(0, 877)\n",
    "list1.remove(9999)\n",
    "print(list1)"
   ],
   "metadata": {
    "collapsed": false,
    "ExecuteTime": {
     "end_time": "2023-12-05T08:29:59.419895864Z",
     "start_time": "2023-12-05T08:29:59.376596878Z"
    }
   },
   "id": "d5b5e91eb56302a5"
  },
  {
   "cell_type": "code",
   "execution_count": 37,
   "outputs": [
    {
     "name": "stdout",
     "output_type": "stream",
     "text": [
      "[1, 2, 2, 3, 4, 4, 5, 7, 343, 877]\n"
     ]
    },
    {
     "data": {
      "text/plain": "[2, 2, 3, 4, 4]"
     },
     "execution_count": 37,
     "metadata": {},
     "output_type": "execute_result"
    }
   ],
   "source": [
    "# list2 = list1     #같은 주소값을 갖게됨\n",
    "list2 = list1.copy()    # 새로운 주소값을 만듬\n",
    "print(list2)\n",
    "list2[1:6]\n"
   ],
   "metadata": {
    "collapsed": false,
    "ExecuteTime": {
     "end_time": "2023-12-05T08:37:38.984049567Z",
     "start_time": "2023-12-05T08:37:38.935902963Z"
    }
   },
   "id": "9c873d9459d81d34"
  },
  {
   "cell_type": "code",
   "execution_count": 44,
   "outputs": [
    {
     "data": {
      "text/plain": "[1, 2, 2, 3, 4, 4, 5, 7, 343, 877]"
     },
     "execution_count": 44,
     "metadata": {},
     "output_type": "execute_result"
    }
   ],
   "source": [
    "list1.sort()\n",
    "list1"
   ],
   "metadata": {
    "collapsed": false,
    "ExecuteTime": {
     "end_time": "2023-12-05T08:38:57.359040962Z",
     "start_time": "2023-12-05T08:38:57.342363982Z"
    }
   },
   "id": "a86e6284f04b8525"
  },
  {
   "cell_type": "code",
   "execution_count": 48,
   "outputs": [
    {
     "data": {
      "text/plain": "[1, 2, 2, 3, 4, 4, 5, 7, 343, 877]"
     },
     "execution_count": 48,
     "metadata": {},
     "output_type": "execute_result"
    }
   ],
   "source": [
    "list1.reverse()\n",
    "list1"
   ],
   "metadata": {
    "collapsed": false,
    "ExecuteTime": {
     "end_time": "2023-12-05T08:41:09.592094159Z",
     "start_time": "2023-12-05T08:41:09.547364643Z"
    }
   },
   "id": "5342d22fe03e7f5f"
  },
  {
   "cell_type": "code",
   "execution_count": 2,
   "outputs": [
    {
     "ename": "NameError",
     "evalue": "name 'list1' is not defined",
     "output_type": "error",
     "traceback": [
      "\u001B[0;31m---------------------------------------------------------------------------\u001B[0m",
      "\u001B[0;31mNameError\u001B[0m                                 Traceback (most recent call last)",
      "Cell \u001B[0;32mIn[2], line 1\u001B[0m\n\u001B[0;32m----> 1\u001B[0m \u001B[43mlist1\u001B[49m\u001B[38;5;241m.\u001B[39msort(reverse\u001B[38;5;241m=\u001B[39m\u001B[38;5;28;01mTrue\u001B[39;00m)\n\u001B[1;32m      2\u001B[0m list1\n",
      "\u001B[0;31mNameError\u001B[0m: name 'list1' is not defined"
     ]
    }
   ],
   "source": [
    "list1.sort(reverse=True)\n",
    "list1"
   ],
   "metadata": {
    "collapsed": false,
    "ExecuteTime": {
     "end_time": "2023-12-06T04:59:08.082641914Z",
     "start_time": "2023-12-06T04:59:08.003360470Z"
    }
   },
   "id": "fbcecc5bd779b971"
  },
  {
   "cell_type": "code",
   "execution_count": 3,
   "outputs": [],
   "source": [
    "## Dictionary\n",
    "# 사전과 같은 자료형으로 키(key)와 값(value)이 한쌍을 이루어 요소가 되는 자료구조\n",
    "# 집합과 마찬가지로 중괄호{}를 사용\n",
    "#. 한번 지정한 키는 변경할 수 없고 {키: 값}을 한꺼번에 삭제하고 새로 추가해야함"
   ],
   "metadata": {
    "collapsed": false,
    "ExecuteTime": {
     "end_time": "2023-12-06T05:09:38.888592916Z",
     "start_time": "2023-12-06T05:09:38.847168044Z"
    }
   },
   "id": "aa889e2abc64e4a4"
  },
  {
   "cell_type": "code",
   "execution_count": 9,
   "outputs": [
    {
     "data": {
      "text/plain": "'KR'"
     },
     "execution_count": 9,
     "metadata": {},
     "output_type": "execute_result"
    }
   ],
   "source": [
    "dict_1 = {'name' : '홍길동', 'birth' : 1990, 'author' : 'KR'}\n",
    "dict_1['author']"
   ],
   "metadata": {
    "collapsed": false,
    "ExecuteTime": {
     "end_time": "2023-12-06T05:11:53.370699912Z",
     "start_time": "2023-12-06T05:11:53.343384672Z"
    }
   },
   "id": "c7118fade21b9e"
  },
  {
   "cell_type": "code",
   "execution_count": 10,
   "outputs": [
    {
     "data": {
      "text/plain": "1990"
     },
     "execution_count": 10,
     "metadata": {},
     "output_type": "execute_result"
    }
   ],
   "source": [
    "dict_1.get('birth')"
   ],
   "metadata": {
    "collapsed": false,
    "ExecuteTime": {
     "end_time": "2023-12-06T05:11:57.083458980Z",
     "start_time": "2023-12-06T05:11:57.069274240Z"
    }
   },
   "id": "fd12aeb56d016996"
  },
  {
   "cell_type": "code",
   "execution_count": 13,
   "outputs": [
    {
     "data": {
      "text/plain": "{'name': '홍길동', 'birth': 1990, 'author': 'KR', 'weight': 60.5}"
     },
     "execution_count": 13,
     "metadata": {},
     "output_type": "execute_result"
    }
   ],
   "source": [
    "dict_1['weight'] = 60.5\n",
    "dict_1"
   ],
   "metadata": {
    "collapsed": false,
    "ExecuteTime": {
     "end_time": "2023-12-06T05:12:40.598347417Z",
     "start_time": "2023-12-06T05:12:40.552549394Z"
    }
   },
   "id": "96e49ada87c2f029"
  },
  {
   "cell_type": "code",
   "execution_count": 16,
   "outputs": [
    {
     "data": {
      "text/plain": "{'name': '홍길동',\n 'birth': 1990,\n 'author': 'KR',\n 'weight': 60.5,\n 'family': ['아빠', '엄마', '여동생']}"
     },
     "execution_count": 16,
     "metadata": {},
     "output_type": "execute_result"
    }
   ],
   "source": [
    "dict_1['family'] = ['아빠', '엄마', '여동생']\n",
    "dict_1"
   ],
   "metadata": {
    "collapsed": false,
    "ExecuteTime": {
     "end_time": "2023-12-06T05:13:39.380435150Z",
     "start_time": "2023-12-06T05:13:39.338274727Z"
    }
   },
   "id": "a95dba89b6729b1"
  },
  {
   "cell_type": "code",
   "execution_count": 22,
   "outputs": [
    {
     "data": {
      "text/plain": "{'name': '홍길동',\n 'birth': 1990,\n 'author': 'KR',\n 'weight': 77.7,\n 'family': ['아빠', '엄마', '여동생'],\n 'hobby': ['게임', '독서', '잠자기']}"
     },
     "execution_count": 22,
     "metadata": {},
     "output_type": "execute_result"
    }
   ],
   "source": [
    "dict_1.update({'weight': 77.7, 'hobby': ['게임', '독서', '잠자기']})\n",
    "dict_1"
   ],
   "metadata": {
    "collapsed": false,
    "ExecuteTime": {
     "end_time": "2023-12-06T05:15:39.996535985Z",
     "start_time": "2023-12-06T05:15:39.954957812Z"
    }
   },
   "id": "672976cf59c26fc0"
  },
  {
   "cell_type": "code",
   "execution_count": 23,
   "outputs": [
    {
     "data": {
      "text/plain": "{'name': '홍길동',\n 'birth': 1990,\n 'author': 'KR',\n 'weight': 77.7,\n 'family': ['아빠', '엄마', '여동생'],\n 'hobby': ['게임', '코딩']}"
     },
     "execution_count": 23,
     "metadata": {},
     "output_type": "execute_result"
    }
   ],
   "source": [
    "dict_1['hobby'] = ['축구', '등산']\n",
    "dict_1.update({'hobby': ['게임', '코딩']})\n",
    "dict_1"
   ],
   "metadata": {
    "collapsed": false,
    "ExecuteTime": {
     "end_time": "2023-12-06T05:16:34.558820841Z",
     "start_time": "2023-12-06T05:16:34.544367830Z"
    }
   },
   "id": "b24eaf2f91c46d7"
  },
  {
   "cell_type": "code",
   "execution_count": 24,
   "outputs": [
    {
     "data": {
      "text/plain": "'코딩'"
     },
     "execution_count": 24,
     "metadata": {},
     "output_type": "execute_result"
    }
   ],
   "source": [
    "dict_1['hobby'][1]\n"
   ],
   "metadata": {
    "collapsed": false,
    "ExecuteTime": {
     "end_time": "2023-12-06T05:17:40.068948162Z",
     "start_time": "2023-12-06T05:17:40.020408171Z"
    }
   },
   "id": "4ca81e57ef0ec95a"
  },
  {
   "cell_type": "code",
   "execution_count": 27,
   "outputs": [
    {
     "ename": "IndexError",
     "evalue": "list assignment index out of range",
     "output_type": "error",
     "traceback": [
      "\u001B[0;31m---------------------------------------------------------------------------\u001B[0m",
      "\u001B[0;31mIndexError\u001B[0m                                Traceback (most recent call last)",
      "Cell \u001B[0;32mIn[27], line 1\u001B[0m\n\u001B[0;32m----> 1\u001B[0m \u001B[38;5;28;01mdel\u001B[39;00m dict_1[\u001B[38;5;124m'\u001B[39m\u001B[38;5;124mhobby\u001B[39m\u001B[38;5;124m'\u001B[39m][\u001B[38;5;241m1\u001B[39m]\n\u001B[1;32m      2\u001B[0m dict_1\n",
      "\u001B[0;31mIndexError\u001B[0m: list assignment index out of range"
     ]
    }
   ],
   "source": [
    "# del dict_1['hobby'][1]"
   ],
   "metadata": {
    "collapsed": false,
    "ExecuteTime": {
     "end_time": "2023-12-06T05:18:23.133411478Z",
     "start_time": "2023-12-06T05:18:23.129790347Z"
    }
   },
   "id": "75fd8f8a13bc9316"
  },
  {
   "cell_type": "code",
   "execution_count": 29,
   "outputs": [
    {
     "data": {
      "text/plain": "{'name': '홍길동',\n 'birth': 1990,\n 'author': 'KR',\n 'weight': 77.7,\n 'family': ['아빠', '엄마', '여동생'],\n 'hobby': ['게임']}"
     },
     "execution_count": 29,
     "metadata": {},
     "output_type": "execute_result"
    }
   ],
   "source": [
    "dict_1\n"
   ],
   "metadata": {
    "collapsed": false,
    "ExecuteTime": {
     "end_time": "2023-12-06T05:20:20.497911643Z",
     "start_time": "2023-12-06T05:20:20.476336877Z"
    }
   },
   "id": "ea0324254bafe6c2"
  },
  {
   "cell_type": "code",
   "execution_count": 60,
   "outputs": [
    {
     "data": {
      "text/plain": "{'S01': 64,\n 'S02': 52,\n 'S03': 95,\n 'S04': 78,\n 'S05': 51,\n 'S06': 98,\n 'S07': 54,\n 'S08': 84,\n 'S09': 70,\n 'S10': 88,\n 'S11': 85,\n 'S12': 85,\n 'S13': 90,\n 'S14': 69,\n 'S15': 83,\n 'S16': 64,\n 'S17': 92,\n 'S18': 82,\n 'S19': 71,\n 'S20': 98,\n 'S21': 79,\n 'S22': 91,\n 'S23': 88,\n 'S24': 98,\n 'S25': 66,\n 'S26': 94,\n 'S27': 100,\n 'S28': 82,\n 'S29': 67,\n 'S30': 80,\n 'S31': 85,\n 'S32': 77,\n 'S33': 50,\n 'S34': 51,\n 'S35': 67,\n 'S36': 81,\n 'S37': 99,\n 'S38': 67,\n 'S39': 61,\n 'S40': 77}"
     },
     "execution_count": 60,
     "metadata": {},
     "output_type": "execute_result"
    }
   ],
   "source": [
    "# 다음 소스 코드는 40명의 학생에게 50~100점 사이의 점수를 무작위로 할당한 딕셔너리 scores를 제공한다.\n",
    "import  random\n",
    "scores = dict()  # {}와 비슷\n",
    "for i in range(1, 41):\n",
    "    scores[f'S{i:0>2}'] = random.randrange(50, 101)\n",
    "scores"
   ],
   "metadata": {
    "collapsed": false,
    "ExecuteTime": {
     "end_time": "2023-12-06T06:16:57.968015560Z",
     "start_time": "2023-12-06T06:16:57.949149145Z"
    }
   },
   "id": "2e2ba0a7d63a89ad"
  },
  {
   "cell_type": "code",
   "execution_count": 61,
   "outputs": [
    {
     "name": "stdout",
     "output_type": "stream",
     "text": [
      "S01: 64\n",
      "S02: 52\n",
      "S03: 95\n",
      "S04: 78\n",
      "S05: 51\n",
      "S06: 98\n",
      "S07: 54\n",
      "S08: 84\n",
      "S09: 70\n",
      "S10: 88\n",
      "S11: 85\n",
      "S12: 85\n",
      "S13: 90\n",
      "S14: 69\n",
      "S15: 83\n",
      "S16: 64\n",
      "S17: 92\n",
      "S18: 82\n",
      "S19: 71\n",
      "S20: 98\n",
      "S21: 79\n",
      "S22: 91\n",
      "S23: 88\n",
      "S24: 98\n",
      "S25: 66\n",
      "S26: 94\n",
      "S27: 100\n",
      "S28: 82\n",
      "S29: 67\n",
      "S30: 80\n",
      "S31: 85\n",
      "S32: 77\n",
      "S33: 50\n",
      "S34: 51\n",
      "S35: 67\n",
      "S36: 81\n",
      "S37: 99\n",
      "S38: 67\n",
      "S39: 61\n",
      "S40: 77\n",
      "['S27']\n"
     ]
    },
    {
     "data": {
      "text/plain": "'최고득점자 중 학번이 가장빠른학생은 S27 이고 점수는 100이다. (동점자는 1명이다) / 평균: 77.825'"
     },
     "execution_count": 61,
     "metadata": {},
     "output_type": "execute_result"
    }
   ],
   "source": [
    "# 40명의 평균점수 \n",
    "scores.values()\n",
    "sums = 0\n",
    "high_score = scores['S01']\n",
    "stuList = []\n",
    "for i in scores.keys():\n",
    "    print(f'{i}: {scores[i]}')\n",
    "    sums += scores[i]\n",
    "    if high_score < scores[i]:\n",
    "        high_score = scores[i]\n",
    "        \n",
    "for i in scores.keys():\n",
    "    if scores[i] == high_score:\n",
    "        stuList.append(i)\n",
    "avg = sums / len(scores)\n",
    "stuList.sort(reverse=True)\n",
    "print(stuList)\n",
    "print()\n",
    "\n",
    "f'최고득점자 중 학번이 가장빠른학생은 {stuList[0]} 이고 점수는 {high_score}이다. (동점자는 {len(stuList)}명이다) / 평균: {avg}'"
   ],
   "metadata": {
    "collapsed": false,
    "ExecuteTime": {
     "end_time": "2023-12-06T06:17:05.844959691Z",
     "start_time": "2023-12-06T06:17:05.823027763Z"
    }
   },
   "id": "6e91ce8b50c059a7"
  },
  {
   "cell_type": "markdown",
   "source": [],
   "metadata": {
    "collapsed": false
   },
   "id": "aa80759af5e23c34"
  },
  {
   "cell_type": "markdown",
   "source": [
    "\n"
   ],
   "metadata": {
    "collapsed": false
   },
   "id": "c940d8f525d2f032"
  }
 ],
 "metadata": {
  "kernelspec": {
   "display_name": "Python 3",
   "language": "python",
   "name": "python3"
  },
  "language_info": {
   "codemirror_mode": {
    "name": "ipython",
    "version": 2
   },
   "file_extension": ".py",
   "mimetype": "text/x-python",
   "name": "python",
   "nbconvert_exporter": "python",
   "pygments_lexer": "ipython2",
   "version": "2.7.6"
  }
 },
 "nbformat": 4,
 "nbformat_minor": 5
}
